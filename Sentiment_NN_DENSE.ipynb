{
  "cells": [
    {
      "metadata": {
        "_uuid": "8f2839f25d086af736a60e9eeb907d3b93b6e0e5",
        "_cell_guid": "b1076dfc-b9ad-4769-8c92-a6c4dae69d19",
        "trusted": true
      },
      "cell_type": "code",
      "source": "# This Python 3 environment comes with many helpful analytics libraries installed\n# It is defined by the kaggle/python docker image: https://github.com/kaggle/docker-python\n# For example, here's several helpful packages to load in \n\nimport numpy as np # linear algebra\nimport pandas as pd # data processing, CSV file I/O (e.g. pd.read_csv)\nimport keras\nfrom keras.datasets import imdb\nfrom keras.preprocessing.sequence import pad_sequences\n# Input data files are available in the \"../input/\" directory.\n# For example, running this (by clicking run or pressing Shift+Enter) will list the files in the input directory\nfrom keras.layers import Dense,Flatten,Dropout\nfrom keras.layers import Embedding\nfrom sklearn.metrics import roc_auc_score\nfrom keras.models import Sequential\nimport os\nprint(os.listdir(\"../input\"))\n\n# Any results you write to the current directory are saved as output.",
      "execution_count": 45,
      "outputs": [
        {
          "output_type": "stream",
          "text": "[]\n",
          "name": "stdout"
        }
      ]
    },
    {
      "metadata": {
        "_cell_guid": "79c7e3d0-c299-4dcb-8224-4455121ee9b0",
        "_uuid": "d629ff2d2480ee46fbb7e2d37f6b5fab8052498a",
        "trusted": true
      },
      "cell_type": "code",
      "source": "epochs=4\nbatch_size=128\nn_dim=64\nn_unique_words=5000\nn_words_skip=50\nmax_review_length=100\npad_type=trunc_type='pre' \n\nn_dense=64\ndropout=0.5",
      "execution_count": 47,
      "outputs": []
    },
    {
      "metadata": {
        "trusted": true,
        "_uuid": "402c1f3dedeed6393129b95e9cc33dba206b2ccb"
      },
      "cell_type": "code",
      "source": "#Loading Data\n(xtrain,ytrain),(xvalid,yvalid)= imdb.load_data(num_words=n_unique_words,skip_top=n_words_skip)",
      "execution_count": 48,
      "outputs": []
    },
    {
      "metadata": {
        "trusted": true,
        "_uuid": "0d4cce2d9b7535991f329112718faefb47d9fdd3"
      },
      "cell_type": "code",
      "source": "xtrain[0]  # 0 is reserved dfor padding\n# 2 is uknown word",
      "execution_count": 49,
      "outputs": [
        {
          "output_type": "execute_result",
          "execution_count": 49,
          "data": {
            "text/plain": "[2,\n 2,\n 2,\n 2,\n 2,\n 530,\n 973,\n 1622,\n 1385,\n 65,\n 458,\n 4468,\n 66,\n 3941,\n 2,\n 173,\n 2,\n 256,\n 2,\n 2,\n 100,\n 2,\n 838,\n 112,\n 50,\n 670,\n 2,\n 2,\n 2,\n 480,\n 284,\n 2,\n 150,\n 2,\n 172,\n 112,\n 167,\n 2,\n 336,\n 385,\n 2,\n 2,\n 172,\n 4536,\n 1111,\n 2,\n 546,\n 2,\n 2,\n 447,\n 2,\n 192,\n 50,\n 2,\n 2,\n 147,\n 2025,\n 2,\n 2,\n 2,\n 2,\n 1920,\n 4613,\n 469,\n 2,\n 2,\n 71,\n 87,\n 2,\n 2,\n 2,\n 530,\n 2,\n 76,\n 2,\n 2,\n 1247,\n 2,\n 2,\n 2,\n 515,\n 2,\n 2,\n 2,\n 626,\n 2,\n 2,\n 2,\n 62,\n 386,\n 2,\n 2,\n 316,\n 2,\n 106,\n 2,\n 2,\n 2223,\n 2,\n 2,\n 480,\n 66,\n 3785,\n 2,\n 2,\n 130,\n 2,\n 2,\n 2,\n 619,\n 2,\n 2,\n 124,\n 51,\n 2,\n 135,\n 2,\n 2,\n 1415,\n 2,\n 2,\n 2,\n 2,\n 215,\n 2,\n 77,\n 52,\n 2,\n 2,\n 407,\n 2,\n 82,\n 2,\n 2,\n 2,\n 107,\n 117,\n 2,\n 2,\n 256,\n 2,\n 2,\n 2,\n 3766,\n 2,\n 723,\n 2,\n 71,\n 2,\n 530,\n 476,\n 2,\n 400,\n 317,\n 2,\n 2,\n 2,\n 2,\n 1029,\n 2,\n 104,\n 88,\n 2,\n 381,\n 2,\n 297,\n 98,\n 2,\n 2071,\n 56,\n 2,\n 141,\n 2,\n 194,\n 2,\n 2,\n 2,\n 226,\n 2,\n 2,\n 134,\n 476,\n 2,\n 480,\n 2,\n 144,\n 2,\n 2,\n 2,\n 51,\n 2,\n 2,\n 224,\n 92,\n 2,\n 104,\n 2,\n 226,\n 65,\n 2,\n 2,\n 1334,\n 88,\n 2,\n 2,\n 283,\n 2,\n 2,\n 4472,\n 113,\n 103,\n 2,\n 2,\n 2,\n 2,\n 2,\n 178,\n 2]"
          },
          "metadata": {}
        }
      ]
    },
    {
      "metadata": {
        "trusted": true,
        "_uuid": "c8de575b947cb8be8f0fbdbe7e9c0a29221c0cc4"
      },
      "cell_type": "code",
      "source": "xtrain[0:5]",
      "execution_count": 50,
      "outputs": [
        {
          "output_type": "execute_result",
          "execution_count": 50,
          "data": {
            "text/plain": "array([list([2, 2, 2, 2, 2, 530, 973, 1622, 1385, 65, 458, 4468, 66, 3941, 2, 173, 2, 256, 2, 2, 100, 2, 838, 112, 50, 670, 2, 2, 2, 480, 284, 2, 150, 2, 172, 112, 167, 2, 336, 385, 2, 2, 172, 4536, 1111, 2, 546, 2, 2, 447, 2, 192, 50, 2, 2, 147, 2025, 2, 2, 2, 2, 1920, 4613, 469, 2, 2, 71, 87, 2, 2, 2, 530, 2, 76, 2, 2, 1247, 2, 2, 2, 515, 2, 2, 2, 626, 2, 2, 2, 62, 386, 2, 2, 316, 2, 106, 2, 2, 2223, 2, 2, 480, 66, 3785, 2, 2, 130, 2, 2, 2, 619, 2, 2, 124, 51, 2, 135, 2, 2, 1415, 2, 2, 2, 2, 215, 2, 77, 52, 2, 2, 407, 2, 82, 2, 2, 2, 107, 117, 2, 2, 256, 2, 2, 2, 3766, 2, 723, 2, 71, 2, 530, 476, 2, 400, 317, 2, 2, 2, 2, 1029, 2, 104, 88, 2, 381, 2, 297, 98, 2, 2071, 56, 2, 141, 2, 194, 2, 2, 2, 226, 2, 2, 134, 476, 2, 480, 2, 144, 2, 2, 2, 51, 2, 2, 224, 92, 2, 104, 2, 226, 65, 2, 2, 1334, 88, 2, 2, 283, 2, 2, 4472, 113, 103, 2, 2, 2, 2, 2, 178, 2]),\n       list([2, 194, 1153, 194, 2, 78, 228, 2, 2, 1463, 4369, 2, 134, 2, 2, 715, 2, 118, 1634, 2, 394, 2, 2, 119, 954, 189, 102, 2, 207, 110, 3103, 2, 2, 69, 188, 2, 2, 2, 2, 2, 249, 126, 93, 2, 114, 2, 2300, 1523, 2, 647, 2, 116, 2, 2, 2, 2, 229, 2, 340, 1322, 2, 118, 2, 2, 130, 4901, 2, 2, 1002, 2, 89, 2, 952, 2, 2, 2, 455, 2, 2, 2, 2, 1543, 1905, 398, 2, 1649, 2, 2, 2, 163, 2, 3215, 2, 2, 1153, 2, 194, 775, 2, 2, 2, 349, 2637, 148, 605, 2, 2, 2, 123, 125, 68, 2, 2, 2, 349, 165, 4362, 98, 2, 2, 228, 2, 2, 2, 1157, 2, 299, 120, 2, 120, 174, 2, 220, 175, 136, 50, 2, 4373, 228, 2, 2, 2, 656, 245, 2350, 2, 2, 2, 131, 152, 491, 2, 2, 2, 2, 1212, 2, 2, 2, 371, 78, 2, 625, 64, 1382, 2, 2, 168, 145, 2, 2, 1690, 2, 2, 2, 1355, 2, 2, 2, 52, 154, 462, 2, 89, 78, 285, 2, 145, 95]),\n       list([2, 2, 2, 2, 2, 2, 2, 2, 249, 108, 2, 2, 2, 54, 61, 369, 2, 71, 149, 2, 2, 112, 2, 2401, 311, 2, 2, 3711, 2, 75, 2, 1829, 296, 2, 86, 320, 2, 534, 2, 263, 4821, 1301, 2, 1873, 2, 89, 78, 2, 66, 2, 2, 360, 2, 2, 58, 316, 334, 2, 2, 1716, 2, 645, 662, 2, 257, 85, 1200, 2, 1228, 2578, 83, 68, 3912, 2, 2, 165, 1539, 278, 2, 69, 2, 780, 2, 106, 2, 2, 1338, 2, 2, 2, 2, 215, 2, 610, 2, 2, 87, 326, 2, 2300, 2, 2, 2, 2, 272, 2, 57, 2, 2, 2, 2, 2, 2, 2307, 51, 2, 170, 2, 595, 116, 595, 1352, 2, 191, 79, 638, 89, 2, 2, 2, 2, 106, 607, 624, 2, 534, 2, 227, 2, 129, 113]),\n       list([2, 2, 2, 2, 2, 2804, 2, 2040, 432, 111, 153, 103, 2, 1494, 2, 70, 131, 67, 2, 61, 2, 744, 2, 3715, 761, 61, 2, 452, 2, 2, 985, 2, 2, 59, 166, 2, 105, 216, 1239, 2, 1797, 2, 2, 2, 2, 744, 2413, 2, 2, 2, 687, 2, 2, 2, 2, 2, 3693, 2, 2, 2, 121, 59, 456, 2, 2, 2, 265, 2, 575, 111, 153, 159, 59, 2, 1447, 2, 2, 586, 482, 2, 2, 96, 59, 716, 2, 2, 172, 65, 2, 579, 2, 2, 2, 1615, 2, 2, 2, 2, 2, 2, 2, 2, 2, 2, 464, 2, 314, 2, 2, 2, 719, 605, 2, 2, 202, 2, 310, 2, 3772, 3501, 2, 2722, 58, 2, 2, 537, 2116, 180, 2, 2, 413, 173, 2, 263, 112, 2, 152, 377, 2, 537, 263, 846, 579, 178, 54, 75, 71, 476, 2, 413, 263, 2504, 182, 2, 2, 75, 2306, 922, 2, 279, 131, 2895, 2, 2867, 2, 2, 2, 921, 2, 192, 2, 1219, 3890, 2, 2, 217, 4122, 1710, 537, 2, 1236, 2, 736, 2, 2, 61, 403, 2, 2, 2, 61, 4494, 2, 2, 4494, 159, 90, 263, 2311, 4319, 309, 2, 178, 2, 82, 4319, 2, 65, 2, 2, 145, 143, 2, 2, 2, 537, 746, 537, 537, 2, 2, 2, 2, 594, 2, 2, 94, 2, 3987, 2, 2, 2, 2, 538, 2, 1795, 246, 2, 2, 2, 2, 635, 2, 2, 51, 408, 2, 94, 318, 1382, 2, 2, 2, 2683, 936, 2, 2, 2, 2, 2, 2, 2, 1885, 2, 1118, 2, 80, 126, 842, 2, 2, 2, 2, 4726, 2, 4494, 2, 1550, 3633, 159, 2, 341, 2, 2733, 2, 4185, 173, 2, 90, 2, 2, 2, 2, 2, 1784, 86, 1117, 2, 3261, 2, 2, 2, 2, 2, 2, 2841, 2, 2, 1010, 2, 793, 2, 2, 1386, 1830, 2, 2, 246, 50, 2, 2, 2750, 1944, 746, 90, 2, 2, 2, 124, 2, 882, 2, 882, 496, 2, 2, 2213, 537, 121, 127, 1219, 130, 2, 2, 494, 2, 124, 2, 882, 496, 2, 341, 2, 2, 846, 2, 2, 2, 2, 1906, 2, 97, 2, 236, 2, 1311, 2, 2, 2, 2, 2, 2, 2, 91, 2, 3987, 70, 2, 882, 2, 579, 2, 2, 2, 2, 2, 537, 2, 2, 2, 2, 65, 2, 537, 75, 2, 1775, 3353, 2, 1846, 2, 2, 2, 154, 2, 2, 518, 53, 2, 2, 2, 3211, 882, 2, 399, 2, 75, 257, 3807, 2, 2, 2, 2, 456, 2, 65, 2, 2, 205, 113, 2, 2, 2, 2, 2, 2, 2, 242, 2, 91, 1202, 2, 2, 2070, 307, 2, 2, 2, 126, 93, 2, 2, 2, 188, 1076, 3222, 2, 2, 2, 2, 2348, 537, 2, 53, 537, 2, 82, 2, 2, 2, 2, 2, 280, 2, 219, 2, 2, 431, 758, 859, 2, 953, 1052, 2, 2, 2, 2, 94, 2, 2, 238, 60, 2, 2, 2, 804, 2, 2, 2, 2, 132, 2, 67, 2, 2, 2, 2, 283, 2, 2, 2, 2, 2, 242, 955, 2, 2, 279, 2, 2, 2, 1685, 195, 2, 238, 60, 796, 2, 2, 671, 2, 2804, 2, 2, 559, 154, 888, 2, 726, 50, 2, 2, 2, 2, 566, 2, 579, 2, 64, 2574]),\n       list([2, 249, 1323, 2, 61, 113, 2, 2, 2, 1637, 2, 2, 56, 2, 2401, 2, 457, 88, 2, 2626, 1400, 2, 3171, 2, 70, 79, 2, 706, 919, 2, 2, 355, 340, 355, 1696, 96, 143, 2, 2, 2, 289, 2, 61, 369, 71, 2359, 2, 2, 2, 131, 2073, 249, 114, 249, 229, 249, 2, 2, 2, 126, 110, 2, 473, 2, 569, 61, 419, 56, 429, 2, 1513, 2, 2, 534, 95, 474, 570, 2, 2, 124, 138, 88, 2, 421, 1543, 52, 725, 2, 61, 419, 2, 2, 1571, 2, 1543, 2, 2, 2, 2, 2, 296, 2, 3524, 2, 2, 421, 128, 74, 233, 334, 207, 126, 224, 2, 562, 298, 2167, 1272, 2, 2601, 2, 516, 988, 2, 2, 79, 120, 2, 595, 2, 784, 2, 3171, 2, 165, 170, 143, 2, 2, 2, 2, 2, 226, 251, 2, 61, 113])],\n      dtype=object)"
          },
          "metadata": {}
        }
      ]
    },
    {
      "metadata": {
        "trusted": true,
        "_uuid": "4414a129ed929cc136e84c67d28c8d2132f24dc1"
      },
      "cell_type": "code",
      "source": "for i in xtrain[0:5]:\n    print(len(i))",
      "execution_count": 51,
      "outputs": [
        {
          "output_type": "stream",
          "text": "218\n189\n141\n550\n147\n",
          "name": "stdout"
        }
      ]
    },
    {
      "metadata": {
        "trusted": true,
        "_uuid": "37c35747c654854921ef1bf57a48fedab76d9a0e"
      },
      "cell_type": "code",
      "source": "ytrain[0:6]",
      "execution_count": 52,
      "outputs": [
        {
          "output_type": "execute_result",
          "execution_count": 52,
          "data": {
            "text/plain": "array([1, 0, 0, 1, 0, 0])"
          },
          "metadata": {}
        }
      ]
    },
    {
      "metadata": {
        "trusted": true,
        "scrolled": false,
        "_uuid": "6e7d0e085ca157598581a6fc7bbe211e2cfc53d9"
      },
      "cell_type": "code",
      "source": "# Restoring words from index\nword_index=keras.datasets.imdb.get_word_index()\nword_index={k:(v+3) for k,v in word_index.items()}\n# we are inserting new words into word index so we are increasing indexes of words by 3\nword_index['PAD']=0\nword_index['START']=1\nword_index['UNK']=2",
      "execution_count": 53,
      "outputs": []
    },
    {
      "metadata": {
        "trusted": true,
        "_uuid": "1937d02fe09d257400cde0867aae0897f4368812"
      },
      "cell_type": "code",
      "source": "#flipping words and keys\nindex_word={v:k for k,v in word_index.items()}\n",
      "execution_count": 54,
      "outputs": []
    },
    {
      "metadata": {
        "trusted": true,
        "_uuid": "b8c7d509626a0e8e4b7feca1e9a35572796b0658"
      },
      "cell_type": "code",
      "source": "index_word",
      "execution_count": 55,
      "outputs": [
        {
          "output_type": "execute_result",
          "execution_count": 55,
          "data": {
            "text/plain": "{34704: 'fawn',\n 52009: 'tsukino',\n 52010: 'nunnery',\n 16819: 'sonja',\n 63954: 'vani',\n 1411: 'woods',\n 16118: 'spiders',\n 2348: 'hanging',\n 2292: 'woody',\n 52011: 'trawling',\n 52012: \"hold's\",\n 11310: 'comically',\n 40833: 'localized',\n 30571: 'disobeying',\n 52013: \"'royale\",\n 40834: \"harpo's\",\n 52014: 'canet',\n 19316: 'aileen',\n 52015: 'acurately',\n 52016: \"diplomat's\",\n 25245: 'rickman',\n 6749: 'arranged',\n 52017: 'rumbustious',\n 52018: 'familiarness',\n 52019: \"spider'\",\n 68807: 'hahahah',\n 52020: \"wood'\",\n 40836: 'transvestism',\n 34705: \"hangin'\",\n 2341: 'bringing',\n 40837: 'seamier',\n 34706: 'wooded',\n 52021: 'bravora',\n 16820: 'grueling',\n 1639: 'wooden',\n 16821: 'wednesday',\n 52022: \"'prix\",\n 34707: 'altagracia',\n 52023: 'circuitry',\n 11588: 'crotch',\n 57769: 'busybody',\n 52024: \"tart'n'tangy\",\n 14132: 'burgade',\n 52026: 'thrace',\n 11041: \"tom's\",\n 52028: 'snuggles',\n 29117: 'francesco',\n 52030: 'complainers',\n 52128: 'templarios',\n 40838: '272',\n 52031: '273',\n 52133: 'zaniacs',\n 34709: '275',\n 27634: 'consenting',\n 40839: 'snuggled',\n 15495: 'inanimate',\n 52033: 'uality',\n 11929: 'bronte',\n 4013: 'errors',\n 3233: 'dialogs',\n 52034: \"yomada's\",\n 34710: \"madman's\",\n 30588: 'dialoge',\n 52036: 'usenet',\n 40840: 'videodrome',\n 26341: \"kid'\",\n 52037: 'pawed',\n 30572: \"'girlfriend'\",\n 52038: \"'pleasure\",\n 52039: \"'reloaded'\",\n 40842: \"kazakos'\",\n 52040: 'rocque',\n 52041: 'mailings',\n 11930: 'brainwashed',\n 16822: 'mcanally',\n 52042: \"tom''\",\n 25246: 'kurupt',\n 21908: 'affiliated',\n 52043: 'babaganoosh',\n 40843: \"noe's\",\n 40844: 'quart',\n 362: 'kids',\n 5037: 'uplifting',\n 7096: 'controversy',\n 21909: 'kida',\n 23382: 'kidd',\n 52044: \"error'\",\n 52045: 'neurologist',\n 18513: 'spotty',\n 30573: 'cobblers',\n 9881: 'projection',\n 40845: 'fastforwarding',\n 52046: 'sters',\n 52047: \"eggar's\",\n 52048: 'etherything',\n 40846: 'gateshead',\n 34711: 'airball',\n 25247: 'unsinkable',\n 7183: 'stern',\n 52049: \"cervi's\",\n 40847: 'dnd',\n 11589: 'dna',\n 20601: 'insecurity',\n 52050: \"'reboot'\",\n 11040: 'trelkovsky',\n 52051: 'jaekel',\n 52052: 'sidebars',\n 52053: \"sforza's\",\n 17636: 'distortions',\n 52054: 'mutinies',\n 30605: 'sermons',\n 40849: '7ft',\n 52055: 'boobage',\n 52056: \"o'bannon's\",\n 23383: 'populations',\n 52057: 'chulak',\n 27636: 'mesmerize',\n 52058: 'quinnell',\n 10310: 'yahoo',\n 52060: 'meteorologist',\n 42580: 'beswick',\n 15496: 'boorman',\n 40850: 'voicework',\n 52061: \"ster'\",\n 22925: 'blustering',\n 52062: 'hj',\n 27637: 'intake',\n 5624: 'morally',\n 40852: 'jumbling',\n 52063: 'bowersock',\n 52064: \"'porky's'\",\n 16824: 'gershon',\n 40853: 'ludicrosity',\n 52065: 'coprophilia',\n 40854: 'expressively',\n 19503: \"india's\",\n 34713: \"post's\",\n 52066: 'wana',\n 5286: 'wang',\n 30574: 'wand',\n 25248: 'wane',\n 52324: 'edgeways',\n 34714: 'titanium',\n 40855: 'pinta',\n 181: 'want',\n 30575: 'pinto',\n 52068: 'whoopdedoodles',\n 21911: 'tchaikovsky',\n 2106: 'travel',\n 52069: \"'victory'\",\n 11931: 'copious',\n 22436: 'gouge',\n 52070: \"chapters'\",\n 6705: 'barbra',\n 30576: 'uselessness',\n 52071: \"wan'\",\n 27638: 'assimilated',\n 16119: 'petiot',\n 52072: 'most\\x85and',\n 3933: 'dinosaurs',\n 355: 'wrong',\n 52073: 'seda',\n 52074: 'stollen',\n 34715: 'sentencing',\n 40856: 'ouroboros',\n 40857: 'assimilates',\n 40858: 'colorfully',\n 27639: 'glenne',\n 52075: 'dongen',\n 4763: 'subplots',\n 52076: 'kiloton',\n 23384: 'chandon',\n 34716: \"effect'\",\n 27640: 'snugly',\n 40859: 'kuei',\n 9095: 'welcomed',\n 30074: 'dishonor',\n 52078: 'concurrence',\n 23385: 'stoicism',\n 14899: \"guys'\",\n 52080: \"beroemd'\",\n 6706: 'butcher',\n 40860: \"melfi's\",\n 30626: 'aargh',\n 20602: 'playhouse',\n 11311: 'wickedly',\n 1183: 'fit',\n 52081: 'labratory',\n 40862: 'lifeline',\n 1930: 'screaming',\n 4290: 'fix',\n 52082: 'cineliterate',\n 52083: 'fic',\n 52084: 'fia',\n 34717: 'fig',\n 52085: 'fmvs',\n 52086: 'fie',\n 52087: 'reentered',\n 30577: 'fin',\n 52088: 'doctresses',\n 52089: 'fil',\n 12609: 'zucker',\n 31934: 'ached',\n 52091: 'counsil',\n 52092: 'paterfamilias',\n 13888: 'songwriter',\n 34718: 'shivam',\n 9657: 'hurting',\n 302: 'effects',\n 52093: 'slauther',\n 52094: \"'flame'\",\n 52095: 'sommerset',\n 52096: 'interwhined',\n 27641: 'whacking',\n 52097: 'bartok',\n 8778: 'barton',\n 21912: 'frewer',\n 52098: \"fi'\",\n 6195: 'ingrid',\n 30578: 'stribor',\n 52099: 'approporiately',\n 52100: 'wobblyhand',\n 52101: 'tantalisingly',\n 52102: 'ankylosaurus',\n 17637: 'parasites',\n 52103: 'childen',\n 52104: \"jenkins'\",\n 52105: 'metafiction',\n 17638: 'golem',\n 40863: 'indiscretion',\n 23386: \"reeves'\",\n 57784: \"inamorata's\",\n 52107: 'brittannica',\n 7919: 'adapt',\n 30579: \"russo's\",\n 48249: 'guitarists',\n 10556: 'abbott',\n 40864: 'abbots',\n 17652: 'lanisha',\n 40866: 'magickal',\n 52108: 'mattter',\n 52109: \"'willy\",\n 34719: 'pumpkins',\n 52110: 'stuntpeople',\n 30580: 'estimate',\n 40867: 'ugghhh',\n 11312: 'gameplay',\n 52111: \"wern't\",\n 40868: \"n'sync\",\n 16120: 'sickeningly',\n 40869: 'chiara',\n 4014: 'disturbed',\n 40870: 'portmanteau',\n 52112: 'ineffectively',\n 82146: \"duchonvey's\",\n 37522: \"nasty'\",\n 1288: 'purpose',\n 52115: 'lazers',\n 28108: 'lightened',\n 52116: 'kaliganj',\n 52117: 'popularism',\n 18514: \"damme's\",\n 30581: 'stylistics',\n 52118: 'mindgaming',\n 46452: 'spoilerish',\n 52120: \"'corny'\",\n 34721: 'boerner',\n 6795: 'olds',\n 52121: 'bakelite',\n 27642: 'renovated',\n 27643: 'forrester',\n 52122: \"lumiere's\",\n 52027: 'gaskets',\n 887: 'needed',\n 34722: 'smight',\n 1300: 'master',\n 25908: \"edie's\",\n 40871: 'seeber',\n 52123: 'hiya',\n 52124: 'fuzziness',\n 14900: 'genesis',\n 12610: 'rewards',\n 30582: 'enthrall',\n 40872: \"'about\",\n 52125: \"recollection's\",\n 11042: 'mutilated',\n 52126: 'fatherlands',\n 52127: \"fischer's\",\n 5402: 'positively',\n 34708: '270',\n 34723: 'ahmed',\n 9839: 'zatoichi',\n 13889: 'bannister',\n 52130: 'anniversaries',\n 30583: \"helm's\",\n 52131: \"'work'\",\n 34724: 'exclaimed',\n 52132: \"'unfunny'\",\n 52032: '274',\n 547: 'feeling',\n 52134: \"wanda's\",\n 33269: 'dolan',\n 52136: '278',\n 52137: 'peacoat',\n 40873: 'brawny',\n 40874: 'mishra',\n 40875: 'worlders',\n 52138: 'protags',\n 52139: 'skullcap',\n 57599: 'dastagir',\n 5625: 'affairs',\n 7802: 'wholesome',\n 52140: 'hymen',\n 25249: 'paramedics',\n 52141: 'unpersons',\n 52142: 'heavyarms',\n 52143: 'affaire',\n 52144: 'coulisses',\n 40876: 'hymer',\n 52145: 'kremlin',\n 30584: 'shipments',\n 52146: 'pixilated',\n 30585: \"'00s\",\n 18515: 'diminishing',\n 1360: 'cinematic',\n 14901: 'resonates',\n 40877: 'simplify',\n 40878: \"nature'\",\n 40879: 'temptresses',\n 16825: 'reverence',\n 19505: 'resonated',\n 34725: 'dailey',\n 52147: '2\\x85',\n 27644: 'treize',\n 52148: 'majo',\n 21913: 'kiya',\n 52149: 'woolnough',\n 39800: 'thanatos',\n 35734: 'sandoval',\n 40882: 'dorama',\n 52150: \"o'shaughnessy\",\n 4991: 'tech',\n 32021: 'fugitives',\n 30586: 'teck',\n 76128: \"'e'\",\n 40884: 'doesn’t',\n 52152: 'purged',\n 660: 'saying',\n 41098: \"martians'\",\n 23421: 'norliss',\n 27645: 'dickey',\n 52155: 'dicker',\n 52156: \"'sependipity\",\n 8425: 'padded',\n 57795: 'ordell',\n 40885: \"sturges'\",\n 52157: 'independentcritics',\n 5748: 'tempted',\n 34727: \"atkinson's\",\n 25250: 'hounded',\n 52158: 'apace',\n 15497: 'clicked',\n 30587: \"'humor'\",\n 17180: \"martino's\",\n 52159: \"'supporting\",\n 52035: 'warmongering',\n 34728: \"zemeckis's\",\n 21914: 'lube',\n 52160: 'shocky',\n 7479: 'plate',\n 40886: 'plata',\n 40887: 'sturgess',\n 40888: \"nerds'\",\n 20603: 'plato',\n 34729: 'plath',\n 40889: 'platt',\n 52162: 'mcnab',\n 27646: 'clumsiness',\n 3902: 'altogether',\n 42587: 'massacring',\n 52163: 'bicenntinial',\n 40890: 'skaal',\n 14363: 'droning',\n 8779: 'lds',\n 21915: 'jaguar',\n 34730: \"cale's\",\n 1780: 'nicely',\n 4591: 'mummy',\n 18516: \"lot's\",\n 10089: 'patch',\n 50205: 'kerkhof',\n 52164: \"leader's\",\n 27647: \"'movie\",\n 52165: 'uncomfirmed',\n 40891: 'heirloom',\n 47363: 'wrangle',\n 52166: 'emotion\\x85',\n 52167: \"'stargate'\",\n 40892: 'pinoy',\n 40893: 'conchatta',\n 41131: 'broeke',\n 40894: 'advisedly',\n 17639: \"barker's\",\n 52169: 'descours',\n 775: 'lots',\n 9262: 'lotr',\n 9882: 'irs',\n 52170: 'lott',\n 40895: 'xvi',\n 34731: 'irk',\n 52171: 'irl',\n 6890: 'ira',\n 21916: 'belzer',\n 52172: 'irc',\n 27648: 'ire',\n 40896: 'requisites',\n 7696: 'discipline',\n 52964: 'lyoko',\n 11313: 'extend',\n 876: 'nature',\n 52173: \"'dickie'\",\n 40897: 'optimist',\n 30589: 'lapping',\n 3903: 'superficial',\n 52174: 'vestment',\n 2826: 'extent',\n 52175: 'tendons',\n 52176: \"heller's\",\n 52177: 'quagmires',\n 52178: 'miyako',\n 20604: 'moocow',\n 52179: \"coles'\",\n 40898: 'lookit',\n 52180: 'ravenously',\n 40899: 'levitating',\n 52181: 'perfunctorily',\n 30590: 'lookin',\n 40901: \"lot'\",\n 52182: 'lookie',\n 34873: 'fearlessly',\n 52184: 'libyan',\n 40902: 'fondles',\n 35717: 'gopher',\n 40904: 'wearying',\n 52185: \"nz's\",\n 27649: 'minuses',\n 52186: 'puposelessly',\n 52187: 'shandling',\n 31271: 'decapitates',\n 11932: 'humming',\n 40905: \"'nother\",\n 21917: 'smackdown',\n 30591: 'underdone',\n 40906: 'frf',\n 52188: 'triviality',\n 25251: 'fro',\n 8780: 'bothers',\n 52189: \"'kensington\",\n 76: 'much',\n 34733: 'muco',\n 22618: 'wiseguy',\n 27651: \"richie's\",\n 40907: 'tonino',\n 52190: 'unleavened',\n 11590: 'fry',\n 40908: \"'tv'\",\n 40909: 'toning',\n 14364: 'obese',\n 30592: 'sensationalized',\n 40910: 'spiv',\n 6262: 'spit',\n 7367: 'arkin',\n 21918: 'charleton',\n 16826: 'jeon',\n 21919: 'boardroom',\n 4992: 'doubts',\n 3087: 'spin',\n 53086: 'hepo',\n 27652: 'wildcat',\n 10587: 'venoms',\n 52194: 'misconstrues',\n 18517: 'mesmerising',\n 40911: 'misconstrued',\n 52195: 'rescinds',\n 52196: 'prostrate',\n 40912: 'majid',\n 16482: 'climbed',\n 34734: 'canoeing',\n 52198: 'majin',\n 57807: 'animie',\n 40913: 'sylke',\n 14902: 'conditioned',\n 40914: 'waddell',\n 52199: '3\\x85',\n 41191: 'hyperdrive',\n 34735: 'conditioner',\n 53156: 'bricklayer',\n 2579: 'hong',\n 52201: 'memoriam',\n 30595: 'inventively',\n 25252: \"levant's\",\n 20641: 'portobello',\n 52203: 'remand',\n 19507: 'mummified',\n 27653: 'honk',\n 19508: 'spews',\n 40915: 'visitations',\n 52204: 'mummifies',\n 25253: 'cavanaugh',\n 23388: 'zeon',\n 40916: \"jungle's\",\n 34736: 'viertel',\n 27654: 'frenchmen',\n 52205: 'torpedoes',\n 52206: 'schlessinger',\n 34737: 'torpedoed',\n 69879: 'blister',\n 52207: 'cinefest',\n 34738: 'furlough',\n 52208: 'mainsequence',\n 40917: 'mentors',\n 9097: 'academic',\n 20605: 'stillness',\n 40918: 'academia',\n 52209: 'lonelier',\n 52210: 'nibby',\n 52211: \"losers'\",\n 40919: 'cineastes',\n 4452: 'corporate',\n 40920: 'massaging',\n 30596: 'bellow',\n 19509: 'absurdities',\n 53244: 'expetations',\n 40921: 'nyfiken',\n 75641: 'mehras',\n 52212: 'lasse',\n 52213: 'visability',\n 33949: 'militarily',\n 52214: \"elder'\",\n 19026: 'gainsbourg',\n 20606: 'hah',\n 13423: 'hai',\n 34739: 'haj',\n 25254: 'hak',\n 4314: 'hal',\n 4895: 'ham',\n 53262: 'duffer',\n 52216: 'haa',\n 69: 'had',\n 11933: 'advancement',\n 16828: 'hag',\n 25255: \"hand'\",\n 13424: 'hay',\n 20607: 'mcnamara',\n 52217: \"mozart's\",\n 30734: 'duffel',\n 30597: 'haq',\n 13890: 'har',\n 47: 'has',\n 2404: 'hat',\n 40922: 'hav',\n 30598: 'haw',\n 52218: 'figtings',\n 15498: 'elders',\n 52219: 'underpanted',\n 52220: 'pninson',\n 27655: 'unequivocally',\n 23676: \"barbara's\",\n 52222: \"bello'\",\n 13000: 'indicative',\n 40923: 'yawnfest',\n 52223: 'hexploitation',\n 52224: \"loder's\",\n 27656: 'sleuthing',\n 32625: \"justin's\",\n 52225: \"'ball\",\n 52226: \"'summer\",\n 34938: \"'demons'\",\n 52228: \"mormon's\",\n 34740: \"laughton's\",\n 52229: 'debell',\n 39727: 'shipyard',\n 30600: 'unabashedly',\n 40404: 'disks',\n 2293: 'crowd',\n 10090: 'crowe',\n 56437: \"vancouver's\",\n 34741: 'mosques',\n 6630: 'crown',\n 52230: 'culpas',\n 27657: 'crows',\n 53347: 'surrell',\n 52232: 'flowless',\n 52233: 'sheirk',\n 40926: \"'three\",\n 52234: \"peterson'\",\n 52235: 'ooverall',\n 40927: 'perchance',\n 1324: 'bottom',\n 53366: 'chabert',\n 52236: 'sneha',\n 13891: 'inhuman',\n 52237: 'ichii',\n 52238: 'ursla',\n 30601: 'completly',\n 40928: 'moviedom',\n 52239: 'raddick',\n 51998: 'brundage',\n 40929: 'brigades',\n 1184: 'starring',\n 52240: \"'goal'\",\n 52241: 'caskets',\n 52242: 'willcock',\n 52243: \"threesome's\",\n 52244: \"mosque'\",\n 52245: \"cover's\",\n 17640: 'spaceships',\n 40930: 'anomalous',\n 27658: 'ptsd',\n 52246: 'shirdan',\n 21965: 'obscenity',\n 30602: 'lemmings',\n 30603: 'duccio',\n 52247: \"levene's\",\n 52248: \"'gorby'\",\n 25258: \"teenager's\",\n 5343: 'marshall',\n 9098: 'honeymoon',\n 3234: 'shoots',\n 12261: 'despised',\n 52249: 'okabasho',\n 8292: 'fabric',\n 18518: 'cannavale',\n 3540: 'raped',\n 52250: \"tutt's\",\n 17641: 'grasping',\n 18519: 'despises',\n 40931: \"thief's\",\n 8929: 'rapes',\n 52251: 'raper',\n 27659: \"eyre'\",\n 52252: 'walchek',\n 23389: \"elmo's\",\n 40932: 'perfumes',\n 21921: 'spurting',\n 52253: \"exposition'\\x85\",\n 52254: 'denoting',\n 34743: 'thesaurus',\n 40933: \"shoot'\",\n 49762: 'bonejack',\n 52256: 'simpsonian',\n 30604: 'hebetude',\n 34744: \"hallow's\",\n 52257: 'desperation\\x85',\n 34745: 'incinerator',\n 10311: 'congratulations',\n 52258: 'humbled',\n 5927: \"else's\",\n 40848: 'trelkovski',\n 52259: \"rape'\",\n 59389: \"'chapters'\",\n 52260: '1600s',\n 7256: 'martian',\n 25259: 'nicest',\n 52262: 'eyred',\n 9460: 'passenger',\n 6044: 'disgrace',\n 52263: 'moderne',\n 5123: 'barrymore',\n 52264: 'yankovich',\n 40934: 'moderns',\n 52265: 'studliest',\n 52266: 'bedsheet',\n 14903: 'decapitation',\n 52267: 'slurring',\n 52268: \"'nunsploitation'\",\n 34746: \"'character'\",\n 9883: 'cambodia',\n 52269: 'rebelious',\n 27660: 'pasadena',\n 40935: 'crowne',\n 52270: \"'bedchamber\",\n 52271: 'conjectural',\n 52272: 'appologize',\n 52273: 'halfassing',\n 57819: 'paycheque',\n 20609: 'palms',\n 52274: \"'islands\",\n 40936: 'hawked',\n 21922: 'palme',\n 40937: 'conservatively',\n 64010: 'larp',\n 5561: 'palma',\n 21923: 'smelling',\n 13001: 'aragorn',\n 52275: 'hawker',\n 52276: 'hawkes',\n 3978: 'explosions',\n 8062: 'loren',\n 52277: \"pyle's\",\n 6707: 'shootout',\n 18520: \"mike's\",\n 52278: \"driscoll's\",\n 40938: 'cogsworth',\n 52279: \"britian's\",\n 34747: 'childs',\n 52280: \"portrait's\",\n 3629: 'chain',\n 2500: 'whoever',\n 52281: 'puttered',\n 52282: 'childe',\n 52283: 'maywether',\n 3039: 'chair',\n 52284: \"rance's\",\n 34748: 'machu',\n 4520: 'ballet',\n 34749: 'grapples',\n 76155: 'summerize',\n 30606: 'freelance',\n 52286: \"andrea's\",\n 52287: '\\x91very',\n 45882: 'coolidge',\n 18521: 'mache',\n 52288: 'balled',\n 40940: 'grappled',\n 18522: 'macha',\n 21924: 'underlining',\n 5626: 'macho',\n 19510: 'oversight',\n 25260: 'machi',\n 11314: 'verbally',\n 21925: 'tenacious',\n 40941: 'windshields',\n 18560: 'paychecks',\n 3399: 'jerk',\n 11934: \"good'\",\n 34751: 'prancer',\n 21926: 'prances',\n 52289: 'olympus',\n 21927: 'lark',\n 10788: 'embark',\n 7368: 'gloomy',\n 52290: 'jehaan',\n 52291: 'turaqui',\n 20610: \"child'\",\n 2897: 'locked',\n 52292: 'pranced',\n 2591: 'exact',\n 52293: 'unattuned',\n 786: 'minute',\n 16121: 'skewed',\n 40943: 'hodgins',\n 34752: 'skewer',\n 52294: 'think\\x85',\n 38768: 'rosenstein',\n 52295: 'helmit',\n 34753: 'wrestlemanias',\n 16829: 'hindered',\n 30607: \"martha's\",\n 52296: 'cheree',\n 52297: \"pluckin'\",\n 40944: 'ogles',\n 11935: 'heavyweight',\n 82193: 'aada',\n 11315: 'chopping',\n 61537: 'strongboy',\n 41345: 'hegemonic',\n 40945: 'adorns',\n 41349: 'xxth',\n 34754: 'nobuhiro',\n 52301: 'capitães',\n 52302: 'kavogianni',\n 13425: 'antwerp',\n 6541: 'celebrated',\n 52303: 'roarke',\n 40946: 'baggins',\n 31273: 'cheeseburgers',\n 52304: 'matras',\n 52305: \"nineties'\",\n 52306: \"'craig'\",\n 13002: 'celebrates',\n 3386: 'unintentionally',\n 14365: 'drafted',\n 52307: 'climby',\n 52308: '303',\n 18523: 'oldies',\n 9099: 'climbs',\n 9658: 'honour',\n 34755: 'plucking',\n 30077: '305',\n 5517: 'address',\n 40947: 'menjou',\n 42595: \"'freak'\",\n 19511: 'dwindling',\n 9461: 'benson',\n 52310: 'white’s',\n 40948: 'shamelessness',\n 21928: 'impacted',\n 52311: 'upatz',\n 3843: 'cusack',\n 37570: \"flavia's\",\n 52312: 'effette',\n 34756: 'influx',\n 52313: 'boooooooo',\n 52314: 'dimitrova',\n 13426: 'houseman',\n 25262: 'bigas',\n 52315: 'boylen',\n 52316: 'phillipenes',\n 40949: 'fakery',\n 27661: \"grandpa's\",\n 27662: 'darnell',\n 19512: 'undergone',\n 52318: 'handbags',\n 21929: 'perished',\n 37781: 'pooped',\n 27663: 'vigour',\n 3630: 'opposed',\n 52319: 'etude',\n 11802: \"caine's\",\n 52320: 'doozers',\n 34757: 'photojournals',\n 52321: 'perishes',\n 34758: 'constrains',\n 40951: 'migenes',\n 30608: 'consoled',\n 16830: 'alastair',\n 52322: 'wvs',\n 52323: 'ooooooh',\n 34759: 'approving',\n 40952: 'consoles',\n 52067: 'disparagement',\n 52325: 'futureistic',\n 52326: 'rebounding',\n 52327: \"'date\",\n 52328: 'gregoire',\n 21930: 'rutherford',\n 34760: 'americanised',\n 82199: 'novikov',\n 1045: 'following',\n 34761: 'munroe',\n 52329: \"morita'\",\n 52330: 'christenssen',\n 23109: 'oatmeal',\n 25263: 'fossey',\n 40953: 'livered',\n 13003: 'listens',\n 76167: \"'marci\",\n 52333: \"otis's\",\n 23390: 'thanking',\n 16022: 'maude',\n 34762: 'extensions',\n 52335: 'ameteurish',\n 52336: \"commender's\",\n 27664: 'agricultural',\n 4521: 'convincingly',\n 17642: 'fueled',\n 54017: 'mahattan',\n 40955: \"paris's\",\n 52339: 'vulkan',\n 52340: 'stapes',\n 52341: 'odysessy',\n 12262: 'harmon',\n 4255: 'surfing',\n 23497: 'halloran',\n 49583: 'unbelieveably',\n 52342: \"'offed'\",\n 30610: 'quadrant',\n 19513: 'inhabiting',\n 34763: 'nebbish',\n 40956: 'forebears',\n 34764: 'skirmish',\n 52343: 'ocassionally',\n 52344: \"'resist\",\n 21931: 'impactful',\n 52345: 'spicier',\n 40957: 'touristy',\n 52346: \"'football'\",\n 40958: 'webpage',\n 52348: 'exurbia',\n 52349: 'jucier',\n 14904: 'professors',\n 34765: 'structuring',\n 30611: 'jig',\n 40959: 'overlord',\n 25264: 'disconnect',\n 82204: 'sniffle',\n 40960: 'slimeball',\n 40961: 'jia',\n 16831: 'milked',\n 40962: 'banjoes',\n 1240: 'jim',\n 52351: 'workforces',\n 52352: 'jip',\n 52353: 'rotweiller',\n 34766: 'mundaneness',\n 52354: \"'ninja'\",\n 11043: \"dead'\",\n 40963: \"cipriani's\",\n 20611: 'modestly',\n 52355: \"professor'\",\n 40964: 'shacked',\n 34767: 'bashful',\n 23391: 'sorter',\n 16123: 'overpowering',\n 18524: 'workmanlike',\n 27665: 'henpecked',\n 18525: 'sorted',\n 52357: \"jōb's\",\n 52358: \"'always\",\n 34768: \"'baptists\",\n 52359: 'dreamcatchers',\n 52360: \"'silence'\",\n 21932: 'hickory',\n 52361: 'fun\\x97yet',\n 52362: 'breakumentary',\n 15499: 'didn',\n 52363: 'didi',\n 52364: 'pealing',\n 40965: 'dispite',\n 25265: \"italy's\",\n 21933: 'instability',\n 6542: 'quarter',\n 12611: 'quartet',\n 52365: 'padmé',\n 52366: \"'bleedmedry\",\n 52367: 'pahalniuk',\n 52368: 'honduras',\n 10789: 'bursting',\n 41468: \"pablo's\",\n 52370: 'irremediably',\n 40966: 'presages',\n 57835: 'bowlegged',\n 65186: 'dalip',\n 6263: 'entering',\n 76175: 'newsradio',\n 54153: 'presaged',\n 27666: \"giallo's\",\n 40967: 'bouyant',\n 52371: 'amerterish',\n 18526: 'rajni',\n 30613: 'leeves',\n 34770: 'macauley',\n 615: 'seriously',\n 52372: 'sugercoma',\n 52373: 'grimstead',\n 52374: \"'fairy'\",\n 30614: 'zenda',\n 52375: \"'twins'\",\n 17643: 'realisation',\n 27667: 'highsmith',\n 7820: 'raunchy',\n 40968: 'incentives',\n 52377: 'flatson',\n 35100: 'snooker',\n 16832: 'crazies',\n 14905: 'crazier',\n 7097: 'grandma',\n 52378: 'napunsaktha',\n 30615: 'workmanship',\n 52379: 'reisner',\n 61309: \"sanford's\",\n 52380: '\\x91doña',\n 6111: 'modest',\n 19156: \"everything's\",\n 40969: 'hamer',\n 52382: \"couldn't'\",\n 13004: 'quibble',\n 52383: 'socking',\n 21934: 'tingler',\n 52384: 'gutman',\n 40970: 'lachlan',\n 52385: 'tableaus',\n 52386: 'headbanger',\n 2850: 'spoken',\n 34771: 'cerebrally',\n 23493: \"'road\",\n 21935: 'tableaux',\n 40971: \"proust's\",\n 40972: 'periodical',\n 52388: \"shoveller's\",\n 25266: 'tamara',\n 17644: 'affords',\n 3252: 'concert',\n 87958: \"yara's\",\n 52389: 'someome',\n 8427: 'lingering',\n 41514: \"abraham's\",\n 34772: 'beesley',\n 34773: 'cherbourg',\n 28627: 'kagan',\n 9100: 'snatch',\n 9263: \"miyazaki's\",\n 25267: 'absorbs',\n 40973: \"koltai's\",\n 64030: 'tingled',\n 19514: 'crossroads',\n 16124: 'rehab',\n 52392: 'falworth',\n 52393: 'sequals',\n ...}"
          },
          "metadata": {}
        }
      ]
    },
    {
      "metadata": {
        "trusted": true,
        "scrolled": true,
        "_uuid": "54bda8a13e2e730b848b43f3fb54faff229a4e40"
      },
      "cell_type": "code",
      "source": "\" \".join(index_word[id] for id in xtrain[0])",
      "execution_count": 56,
      "outputs": [
        {
          "output_type": "execute_result",
          "execution_count": 56,
          "data": {
            "text/plain": "\"UNK UNK UNK UNK UNK brilliant casting location scenery story direction everyone's really suited UNK part UNK played UNK UNK could UNK imagine being there robert UNK UNK UNK amazing actor UNK now UNK same being director UNK father came UNK UNK same scottish island UNK myself UNK UNK loved UNK fact there UNK UNK real connection UNK UNK UNK UNK witty remarks throughout UNK UNK were great UNK UNK UNK brilliant UNK much UNK UNK bought UNK UNK UNK soon UNK UNK UNK released UNK UNK UNK would recommend UNK UNK everyone UNK watch UNK UNK fly UNK UNK amazing really cried UNK UNK end UNK UNK UNK sad UNK UNK know what UNK say UNK UNK cry UNK UNK UNK UNK must UNK been good UNK UNK definitely UNK also UNK UNK UNK two little UNK UNK played UNK UNK UNK norman UNK paul UNK were UNK brilliant children UNK often left UNK UNK UNK UNK list UNK think because UNK stars UNK play them UNK grown up UNK such UNK big UNK UNK UNK whole UNK UNK these children UNK amazing UNK should UNK UNK UNK what UNK UNK done don't UNK think UNK whole story UNK UNK lovely because UNK UNK true UNK UNK someone's life after UNK UNK UNK UNK UNK us UNK\""
          },
          "metadata": {}
        }
      ]
    },
    {
      "metadata": {
        "trusted": true,
        "_uuid": "3f51aa1afdaefd45545428ea0bc8b620d670ef80"
      },
      "cell_type": "code",
      "source": "#Incase we want to load all words \n(all_xtrain,_),(all_test,_)=imdb.load_data()",
      "execution_count": 57,
      "outputs": []
    },
    {
      "metadata": {
        "trusted": true,
        "scrolled": true,
        "_uuid": "b98100a2092321f31335fb4c18a736b8aae82b8d"
      },
      "cell_type": "code",
      "source": "\" \".join(index_word[id] for id in all_xtrain[0])",
      "execution_count": 58,
      "outputs": [
        {
          "output_type": "execute_result",
          "execution_count": 58,
          "data": {
            "text/plain": "\"START this film was just brilliant casting location scenery story direction everyone's really suited the part they played and you could just imagine being there robert redford's is an amazing actor and now the same being director norman's father came from the same scottish island as myself so i loved the fact there was a real connection with this film the witty remarks throughout the film were great it was just brilliant so much that i bought the film as soon as it was released for retail and would recommend it to everyone to watch and the fly fishing was amazing really cried at the end it was so sad and you know what they say if you cry at a film it must have been good and this definitely was also congratulations to the two little boy's that played the part's of norman and paul they were just brilliant children are often left out of the praising list i think because the stars that play them all grown up are such a big profile for the whole film but these children are amazing and should be praised for what they have done don't you think the whole story was so lovely because it was true and was someone's life after all that was shared with us all\""
          },
          "metadata": {}
        }
      ]
    },
    {
      "metadata": {
        "trusted": true,
        "_uuid": "7d2129012849bad8a33eb2d8525ef84181afea7b"
      },
      "cell_type": "code",
      "source": "xtrain1=pad_sequences(xtrain,maxlen=max_review_length,padding=pad_type,truncating=trunc_type,value=0)",
      "execution_count": 61,
      "outputs": []
    },
    {
      "metadata": {
        "trusted": true,
        "_uuid": "126741c26f921e7adda1d39d69f3d1d3d8b26a45"
      },
      "cell_type": "code",
      "source": "xvalid1=pad_sequences(xvalid,maxlen=max_review_length,padding=pad_type,truncating=trunc_type,value=0)",
      "execution_count": 62,
      "outputs": []
    },
    {
      "metadata": {
        "trusted": true,
        "_uuid": "f1117e456ee7aeaec9905a1331f34eacb0708ac2"
      },
      "cell_type": "code",
      "source": "[len(i) for i in xtrain1[0:6]]  # all are of same length now",
      "execution_count": 63,
      "outputs": [
        {
          "output_type": "execute_result",
          "execution_count": 63,
          "data": {
            "text/plain": "[100, 100, 100, 100, 100, 100]"
          },
          "metadata": {}
        }
      ]
    },
    {
      "metadata": {
        "trusted": true,
        "_uuid": "00b994aafe4a6d8497689225db587ba727af010f"
      },
      "cell_type": "code",
      "source": "# Design NN architecture\nmodel=Sequential()\nmodel.add(Embedding(n_unique_words,n_dim,input_length=max_review_length))\nmodel.add(Flatten())\nmodel.add(Dense(n_dense,activation='relu'))\nmodel.add(Dropout(0.5))\nmodel.add(Dense(1,activation='sigmoid'))\n",
      "execution_count": 64,
      "outputs": []
    },
    {
      "metadata": {
        "trusted": true,
        "_uuid": "f9a43a49d807ecabf1573ce7b62173fbf9144ea8"
      },
      "cell_type": "code",
      "source": "model.summary()",
      "execution_count": 65,
      "outputs": [
        {
          "output_type": "stream",
          "text": "_________________________________________________________________\nLayer (type)                 Output Shape              Param #   \n=================================================================\nembedding_2 (Embedding)      (None, 100, 64)           320000    \n_________________________________________________________________\nflatten_2 (Flatten)          (None, 6400)              0         \n_________________________________________________________________\ndense_3 (Dense)              (None, 64)                409664    \n_________________________________________________________________\ndropout_2 (Dropout)          (None, 64)                0         \n_________________________________________________________________\ndense_4 (Dense)              (None, 1)                 65        \n=================================================================\nTotal params: 729,729\nTrainable params: 729,729\nNon-trainable params: 0\n_________________________________________________________________\n",
          "name": "stdout"
        }
      ]
    },
    {
      "metadata": {
        "trusted": true,
        "_uuid": "9d1405e6274a82ad6bb2cb0f6f042f6803713651"
      },
      "cell_type": "code",
      "source": "model.compile(loss='binary_crossentropy',optimizer='adam',metrics=['accuracy'])",
      "execution_count": 66,
      "outputs": []
    },
    {
      "metadata": {
        "trusted": true,
        "_uuid": "9cf21f584c06e88017ab8057d851cb39379eb9ac"
      },
      "cell_type": "code",
      "source": "model.fit(xtrain1,ytrain,batch_size=batch_size,epochs=epochs,verbose=1,validation_data=(xvalid1,yvalid))",
      "execution_count": 67,
      "outputs": [
        {
          "output_type": "stream",
          "text": "Train on 25000 samples, validate on 25000 samples\nEpoch 1/4\n25000/25000 [==============================] - 4s 154us/step - loss: 0.5566 - acc: 0.6910 - val_loss: 0.3583 - val_acc: 0.8414\nEpoch 2/4\n25000/25000 [==============================] - 3s 125us/step - loss: 0.2809 - acc: 0.8871 - val_loss: 0.3481 - val_acc: 0.8447\nEpoch 3/4\n25000/25000 [==============================] - 3s 125us/step - loss: 0.1150 - acc: 0.9652 - val_loss: 0.4235 - val_acc: 0.8340\nEpoch 4/4\n25000/25000 [==============================] - 3s 124us/step - loss: 0.0242 - acc: 0.9960 - val_loss: 0.5292 - val_acc: 0.8316\n",
          "name": "stdout"
        },
        {
          "output_type": "execute_result",
          "execution_count": 67,
          "data": {
            "text/plain": "<keras.callbacks.History at 0x7fc8ebd4ec50>"
          },
          "metadata": {}
        }
      ]
    },
    {
      "metadata": {
        "trusted": true,
        "_uuid": "43e7c800629c0bd2ac5899c06b17f3ba3d0714e0"
      },
      "cell_type": "code",
      "source": "y_hat=model.predict_proba(xvalid1)",
      "execution_count": 69,
      "outputs": []
    },
    {
      "metadata": {
        "trusted": true,
        "_uuid": "81782136a9094b0544c3928a47bad9e02b9884bd"
      },
      "cell_type": "code",
      "source": "y_hat[0]",
      "execution_count": 70,
      "outputs": [
        {
          "output_type": "execute_result",
          "execution_count": 70,
          "data": {
            "text/plain": "array([0.0885691], dtype=float32)"
          },
          "metadata": {}
        }
      ]
    },
    {
      "metadata": {
        "trusted": true,
        "_uuid": "3ea6db24d75c929e90e726dc5baa3b99554b812b"
      },
      "cell_type": "code",
      "source": "import matplotlib.pyplot as plt",
      "execution_count": 71,
      "outputs": []
    },
    {
      "metadata": {
        "trusted": true,
        "_uuid": "49a422f6eea40738f822bb14eca4eca7919221c4"
      },
      "cell_type": "code",
      "source": "plt.hist(y_hat)",
      "execution_count": 72,
      "outputs": [
        {
          "output_type": "execute_result",
          "execution_count": 72,
          "data": {
            "text/plain": "(array([ 9385.,   904.,   608.,   522.,   426.,   469.,   509.,   615.,\n         1020., 10542.]),\n array([1.2624917e-08, 1.0000001e-01, 2.0000000e-01, 3.0000001e-01,\n        4.0000001e-01, 5.0000000e-01, 6.0000002e-01, 6.9999999e-01,\n        8.0000001e-01, 8.9999998e-01, 1.0000000e+00], dtype=float32),\n <a list of 10 Patch objects>)"
          },
          "metadata": {}
        },
        {
          "output_type": "display_data",
          "data": {
            "text/plain": "<Figure size 432x288 with 1 Axes>",
            "image/png": "[encoded data removed]"
          },
          "metadata": {}
        }
      ]
    },
    {
      "metadata": {
        "_kg_hide-output": true,
        "trusted": true,
        "_uuid": "c98629e28b08432659eca42882809cf6c04928bf"
      },
      "cell_type": "code",
      "source": "auc_cur=roc_auc_score(yvalid,y_hat)*100.0",
      "execution_count": 73,
      "outputs": []
    },
    {
      "metadata": {
        "trusted": true,
        "_uuid": "1a7a007d8f47703da46a2a57b97bba95e81eb26b"
      },
      "cell_type": "code",
      "source": "auc_cur",
      "execution_count": 74,
      "outputs": [
        {
          "output_type": "execute_result",
          "execution_count": 74,
          "data": {
            "text/plain": "91.51464064000001"
          },
          "metadata": {}
        }
      ]
    },
    {
      "metadata": {
        "trusted": true,
        "_uuid": "03dc6299b22fe3da32a679a132097da5ebba7552"
      },
      "cell_type": "code",
      "source": "#Looking individual results\nfloat_yhat=[]\nfor y in y_hat:\n    float_yhat.append(y[0])",
      "execution_count": 75,
      "outputs": []
    },
    {
      "metadata": {
        "trusted": true,
        "_uuid": "a913d98782081f4de4915f53ea803d455cb264ac"
      },
      "cell_type": "code",
      "source": "ydf=pd.DataFrame(list(zip(float_yhat,yvalid)),columns=['yhat','y'])",
      "execution_count": 78,
      "outputs": []
    },
    {
      "metadata": {
        "trusted": true,
        "_uuid": "3d16362f36e4f5a2ed4f77f4c7d46f6594036b59"
      },
      "cell_type": "code",
      "source": "ydf.head()",
      "execution_count": 80,
      "outputs": [
        {
          "output_type": "execute_result",
          "execution_count": 80,
          "data": {
            "text/plain": "       yhat  y\n0  0.088569  0\n1  0.999204  1\n2  0.912367  1\n3  0.575199  0\n4  0.999990  1",
            "text/html": "<div>\n<style scoped>\n    .dataframe tbody tr th:only-of-type {\n        vertical-align: middle;\n    }\n\n    .dataframe tbody tr th {\n        vertical-align: top;\n    }\n\n    .dataframe thead th {\n        text-align: right;\n    }\n</style>\n<table border=\"1\" class=\"dataframe\">\n  <thead>\n    <tr style=\"text-align: right;\">\n      <th></th>\n      <th>yhat</th>\n      <th>y</th>\n    </tr>\n  </thead>\n  <tbody>\n    <tr>\n      <th>0</th>\n      <td>0.088569</td>\n      <td>0</td>\n    </tr>\n    <tr>\n      <th>1</th>\n      <td>0.999204</td>\n      <td>1</td>\n    </tr>\n    <tr>\n      <th>2</th>\n      <td>0.912367</td>\n      <td>1</td>\n    </tr>\n    <tr>\n      <th>3</th>\n      <td>0.575199</td>\n      <td>0</td>\n    </tr>\n    <tr>\n      <th>4</th>\n      <td>0.999990</td>\n      <td>1</td>\n    </tr>\n  </tbody>\n</table>\n</div>"
          },
          "metadata": {}
        }
      ]
    },
    {
      "metadata": {
        "trusted": true,
        "_uuid": "8beba426b4074be1ef53e5bdc2c524054c25a93f"
      },
      "cell_type": "code",
      "source": "\" \".join(index_word[i] for i in all_test[3])\n# some bad words too in this example",
      "execution_count": 82,
      "outputs": [
        {
          "output_type": "execute_result",
          "execution_count": 82,
          "data": {
            "text/plain": "\"START i generally love this type of movie however this time i found myself wanting to kick the screen since i can't do that i will just complain about it this was absolutely idiotic the things that happen with the dead kids are very cool but the alive people are absolute idiots i am a grown man pretty big and i can defend myself well however i would not do half the stuff the little girl does in this movie also the mother in this movie is reckless with her children to the point of neglect i wish i wasn't so angry about her and her actions because i would have otherwise enjoyed the flick what a number she was take my advise and fast forward through everything you see her do until the end also is anyone else getting sick of watching movies that are filmed so dark anymore one can hardly see what is being filmed as an audience we are impossibly involved with the actions on the screen so then why the hell can't we have night vision\""
          },
          "metadata": {}
        }
      ]
    },
    {
      "metadata": {
        "trusted": true,
        "_uuid": "82a363ab8c2c701c8ab536abc4c5f9d92a55a8f8"
      },
      "cell_type": "code",
      "source": "#checking for examples where model predicted wrong\nydf[(ydf.y==0) & (ydf.yhat>0.9)].head(10)",
      "execution_count": 83,
      "outputs": [
        {
          "output_type": "execute_result",
          "execution_count": 83,
          "data": {
            "text/plain": "         yhat  y\n66   0.998666  0\n75   0.997553  0\n112  0.997867  0\n139  0.907158  0\n152  0.998792  0\n156  0.980510  0\n247  0.932796  0\n256  0.966868  0\n260  0.962319  0\n299  0.966073  0",
            "text/html": "<div>\n<style scoped>\n    .dataframe tbody tr th:only-of-type {\n        vertical-align: middle;\n    }\n\n    .dataframe tbody tr th {\n        vertical-align: top;\n    }\n\n    .dataframe thead th {\n        text-align: right;\n    }\n</style>\n<table border=\"1\" class=\"dataframe\">\n  <thead>\n    <tr style=\"text-align: right;\">\n      <th></th>\n      <th>yhat</th>\n      <th>y</th>\n    </tr>\n  </thead>\n  <tbody>\n    <tr>\n      <th>66</th>\n      <td>0.998666</td>\n      <td>0</td>\n    </tr>\n    <tr>\n      <th>75</th>\n      <td>0.997553</td>\n      <td>0</td>\n    </tr>\n    <tr>\n      <th>112</th>\n      <td>0.997867</td>\n      <td>0</td>\n    </tr>\n    <tr>\n      <th>139</th>\n      <td>0.907158</td>\n      <td>0</td>\n    </tr>\n    <tr>\n      <th>152</th>\n      <td>0.998792</td>\n      <td>0</td>\n    </tr>\n    <tr>\n      <th>156</th>\n      <td>0.980510</td>\n      <td>0</td>\n    </tr>\n    <tr>\n      <th>247</th>\n      <td>0.932796</td>\n      <td>0</td>\n    </tr>\n    <tr>\n      <th>256</th>\n      <td>0.966868</td>\n      <td>0</td>\n    </tr>\n    <tr>\n      <th>260</th>\n      <td>0.962319</td>\n      <td>0</td>\n    </tr>\n    <tr>\n      <th>299</th>\n      <td>0.966073</td>\n      <td>0</td>\n    </tr>\n  </tbody>\n</table>\n</div>"
          },
          "metadata": {}
        }
      ]
    },
    {
      "metadata": {
        "trusted": true,
        "_uuid": "429d40f42a158b72731e1ca64669c4fbc273d8e6"
      },
      "cell_type": "code",
      "source": "#checking 247\n\" \".join(index_word[i] for i in all_test[156])",
      "execution_count": 84,
      "outputs": [
        {
          "output_type": "execute_result",
          "execution_count": 84,
          "data": {
            "text/plain": "\"START i rented this when it came out on video cassette in 1995 after rewatching it again my idea about it hasn't changed much br br i was an adult then and i'm still an adult now lol br br the illogical elements mentioned by other reviewers didn't bother me this isn't a documentary it's a fantasy story where animals can talk br br while i didn't care for much of the songs i liked the one at the end of the picture where it's sang by barry manilow and another person br br some people seem to make an excuse for it's primitive animation by saying that cgi wasn't used often in animated features but let's not forget that the lion king was released about a year earlier and that packed possibly more excellence than any animated feature that came before it br br but i think it's pretty fair to say that the pebble and the was made on the cheap while the lion king wasn't br br the high points for me in 1995 as well as today is the suspense generated by the few dangerous mostly underwater chase scenes br br i also liked the opening scene which takes place on a music notes page and a little bit of the love story but most of the time the story dragged on and was boring br br worth a look if you like animation but if you're an adult and not a risk taker go get another walt disney production instead of this\""
          },
          "metadata": {}
        }
      ]
    },
    {
      "metadata": {
        "trusted": true,
        "_uuid": "5a6430fade867d31cf6e06981a9771c89f42a2bc"
      },
      "cell_type": "code",
      "source": "",
      "execution_count": null,
      "outputs": []
    }
  ],
  "metadata": {
    "kernelspec": {
      "display_name": "Python 3",
      "language": "python",
      "name": "python3"
    },
    "language_info": {
      "name": "python",
      "version": "3.6.6",
      "mimetype": "text/x-python",
      "codemirror_mode": {
        "name": "ipython",
        "version": 3
      },
      "pygments_lexer": "ipython3",
      "nbconvert_exporter": "python",
      "file_extension": ".py"
    }
  },
  "nbformat": 4,
  "nbformat_minor": 1
}